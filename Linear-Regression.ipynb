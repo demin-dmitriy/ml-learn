{
 "cells": [
  {
   "cell_type": "code",
   "execution_count": null,
   "metadata": {},
   "outputs": [],
   "source": [
    "import numpy as np\n",
    "import matplotlib as mpl\n",
    "import matplotlib.pyplot as plt\n",
    "\n",
    "from numpy.linalg import inv\n",
    "\n",
    "import itertools\n",
    "import utils.itertools_recipes"
   ]
  },
  {
   "cell_type": "code",
   "execution_count": null,
   "metadata": {},
   "outputs": [],
   "source": [
    "size = 100\n",
    "low = 1\n",
    "hi = 5"
   ]
  },
  {
   "cell_type": "code",
   "execution_count": null,
   "metadata": {},
   "outputs": [],
   "source": [
    "range_ends = np.r_[low, hi]"
   ]
  },
  {
   "cell_type": "code",
   "execution_count": null,
   "metadata": {},
   "outputs": [],
   "source": [
    "θ_0 = np.random.uniform(0, 1)\n",
    "θ_1 = np.random.uniform(0, 3)\n",
    "\n",
    "solution = np.vectorize(lambda x: θ_0 + θ_1 * x)"
   ]
  },
  {
   "cell_type": "code",
   "execution_count": null,
   "metadata": {},
   "outputs": [],
   "source": [
    "θ_0, θ_1"
   ]
  },
  {
   "cell_type": "code",
   "execution_count": null,
   "metadata": {},
   "outputs": [],
   "source": [
    "xs = np.random.uniform(low, hi, size)\n",
    "y_noise = np.random.randn(size)\n",
    "ys = θ_0 + θ_1 * xs + y_noise "
   ]
  },
  {
   "cell_type": "code",
   "execution_count": null,
   "metadata": {},
   "outputs": [],
   "source": [
    "plt.plot(xs, ys, '.r')"
   ]
  },
  {
   "cell_type": "code",
   "execution_count": null,
   "metadata": {},
   "outputs": [],
   "source": [
    "X = np.c_[np.ones(xs.size), xs]\n",
    "Y = ys[:,None]"
   ]
  },
  {
   "cell_type": "code",
   "execution_count": null,
   "metadata": {},
   "outputs": [],
   "source": [
    "# Commented in favor of more linear algebraic formula that is more compact and more general\n",
    "# opt_θ_1 = (ys.mean() - (xs * ys).sum() / xs.sum()) / (xs.mean() - (xs ** 2).sum() / xs.sum())\n",
    "# opt_θ_0 = ys.mean() - opt_θ_1 * xs.mean()\n",
    "\n",
    "opt_θ_0, opt_θ_1 = (inv(X.T @ X) @ X.T @ Y)[:,0]\n",
    "\n",
    "h = np.vectorize(lambda x: opt_θ_0 + opt_θ_1 * x)"
   ]
  },
  {
   "cell_type": "code",
   "execution_count": null,
   "metadata": {},
   "outputs": [],
   "source": [
    "opt_θ_0, opt_θ_1"
   ]
  },
  {
   "cell_type": "code",
   "execution_count": null,
   "metadata": {},
   "outputs": [],
   "source": [
    "print(\"squared error = \", (θ_0 - opt_θ_0) ** 2 + (θ_1 - opt_θ_1) ** 2)"
   ]
  },
  {
   "cell_type": "code",
   "execution_count": null,
   "metadata": {},
   "outputs": [],
   "source": [
    "plt.plot(xs, ys, '.r')\n",
    "plt.plot(range_ends, h(range_ends))\n",
    "plt.plot(range_ends, solution(range_ends))"
   ]
  },
  {
   "cell_type": "code",
   "execution_count": null,
   "metadata": {},
   "outputs": [],
   "source": [
    "vecJ = lambda θ: ((X @ θ.reshape(2, 1)  - Y) ** 2).sum() / xs.size\n",
    "J = np.vectorize(lambda θ_0, θ_1: vecJ(np.array([θ_0, θ_1])))"
   ]
  },
  {
   "cell_type": "code",
   "execution_count": null,
   "metadata": {},
   "outputs": [],
   "source": [
    "θ_0_range = np.r_[θ_0 - 1 : θ_0 + 1 : 100j]\n",
    "θ_1_range = np.r_[θ_1 - 1 : θ_1 + 1 : 100j]\n",
    "plt.contour(θ_1_range, θ_0_range, J(θ_0_range[:,None], θ_1_range[None,:]))"
   ]
  },
  {
   "cell_type": "code",
   "execution_count": null,
   "metadata": {},
   "outputs": [],
   "source": [
    "dJ = lambda θ: 2 / xs.size * (X * (X @ θ.reshape(2, 1) - Y)).sum(axis=0)"
   ]
  },
  {
   "cell_type": "code",
   "execution_count": null,
   "metadata": {},
   "outputs": [],
   "source": [
    "def batchGradDescent(start_θ, α = 0.01):\n",
    "    current_θ = start_θ\n",
    "    while True:\n",
    "        yield current_θ\n",
    "        current_θ = current_θ - α * dJ(current_θ)"
   ]
  },
  {
   "cell_type": "code",
   "execution_count": null,
   "metadata": {},
   "outputs": [],
   "source": [
    "def optimize(α = 0.01):\n",
    "    return batchGradDescent(start_θ=np.array([0, 0]), α=α)"
   ]
  },
  {
   "cell_type": "code",
   "execution_count": null,
   "metadata": {},
   "outputs": [],
   "source": [
    "itertools_recipes.nth(optimize(), 20000)"
   ]
  },
  {
   "cell_type": "code",
   "execution_count": null,
   "metadata": {},
   "outputs": [],
   "source": [
    "def progressJ(α, steps=40):\n",
    "    return itertools_recipes.take(steps, map(vecJ, optimize(α=α)))\n",
    "\n",
    "#plt.plot(progressJ(0.1), label='α = 0.1') # diverges\n",
    "plt.plot(progressJ(0.07), label='α = 0.07')\n",
    "plt.plot(progressJ(0.03), label='α = 0.03')\n",
    "plt.plot(progressJ(0.01), label='α = 0.01')\n",
    "plt.plot(progressJ(0.001), label='α = 0.001')\n",
    "\n",
    "plt.legend()"
   ]
  }
 ],
 "metadata": {
  "language_info": {
   "name": "python",
   "pygments_lexer": "ipython3"
  }
 },
 "nbformat": 4,
 "nbformat_minor": 2
}
