{
 "cells": [
  {
   "cell_type": "code",
   "execution_count": null,
   "metadata": {},
   "outputs": [],
   "source": [
    "import numpy as np\n",
    "import matplotlib as mpl\n",
    "import matplotlib.pyplot as plt"
   ]
  },
  {
   "cell_type": "code",
   "execution_count": null,
   "metadata": {},
   "outputs": [],
   "source": [
    "size = 100\n",
    "low = 1\n",
    "hi = 5"
   ]
  },
  {
   "cell_type": "code",
   "execution_count": null,
   "metadata": {},
   "outputs": [],
   "source": [
    "range_ends = np.r_[low, hi]"
   ]
  },
  {
   "cell_type": "code",
   "execution_count": null,
   "metadata": {},
   "outputs": [],
   "source": [
    "θ_0 = np.random.uniform(0, 1)\n",
    "θ_1 = np.random.uniform(0, 3)\n",
    "\n",
    "solution = np.vectorize(lambda x: θ_0 + θ_1 * x)"
   ]
  },
  {
   "cell_type": "code",
   "execution_count": null,
   "metadata": {},
   "outputs": [],
   "source": [
    "θ_0, θ_1"
   ]
  },
  {
   "cell_type": "code",
   "execution_count": null,
   "metadata": {},
   "outputs": [],
   "source": [
    "xs = np.random.uniform(low, hi, size)\n",
    "y_noise = np.random.randn(size)\n",
    "ys = θ_0 + θ_1 * xs + y_noise "
   ]
  },
  {
   "cell_type": "code",
   "execution_count": null,
   "metadata": {},
   "outputs": [],
   "source": [
    "plt.plot(xs, ys, '.r')"
   ]
  },
  {
   "cell_type": "code",
   "execution_count": null,
   "metadata": {},
   "outputs": [],
   "source": [
    "opt_θ_1 = (ys.mean() - (xs * ys).sum() / xs.sum()) / (xs.mean() - (xs ** 2).sum() / xs.sum())\n",
    "opt_θ_0 = ys.mean() - opt_θ_1 * xs.mean()\n",
    "\n",
    "h = np.vectorize(lambda x: opt_θ_0 + opt_θ_1 * x)"
   ]
  },
  {
   "cell_type": "code",
   "execution_count": null,
   "metadata": {},
   "outputs": [],
   "source": [
    "opt_θ_0, opt_θ_1"
   ]
  },
  {
   "cell_type": "code",
   "execution_count": null,
   "metadata": {},
   "outputs": [],
   "source": [
    "print(\"squared error = \", (θ_0 - opt_θ_0) ** 2 + (θ_1 - opt_θ_1) ** 2)"
   ]
  },
  {
   "cell_type": "code",
   "execution_count": null,
   "metadata": {},
   "outputs": [],
   "source": [
    "plt.plot(xs, ys, '.r')\n",
    "plt.plot(range_ends, h(range_ends))\n",
    "plt.plot(range_ends, solution(range_ends))"
   ]
  },
  {
   "cell_type": "code",
   "execution_count": null,
   "metadata": {},
   "outputs": [],
   "source": [
    "J = np.vectorize(lambda θ_0, θ_1: ((θ_0 + θ_1 * xs - ys) ** 2).sum() / xs.size)"
   ]
  },
  {
   "cell_type": "code",
   "execution_count": null,
   "metadata": {},
   "outputs": [],
   "source": [
    "θ_0_range = np.r_[θ_0 - 1 : θ_0 + 1 : 100j]\n",
    "θ_1_range = np.r_[θ_1 - 1 : θ_1 + 1 : 100j]\n",
    "plt.contour(θ_1_range, θ_0_range, J(θ_0_range[:,None], θ_1_range[None,:]))\n"
   ]
  }
 ],
 "metadata": {
  "kernelspec": {
   "display_name": "Python 3",
   "language": "python",
   "name": "python3"
  },
  "language_info": {
   "codemirror_mode": {
    "name": "ipython",
    "version": 3
   },
   "file_extension": ".py",
   "mimetype": "text/x-python",
   "name": "python",
   "nbconvert_exporter": "python",
   "pygments_lexer": "ipython3",
   "version": "3.6.4"
  }
 },
 "nbformat": 4,
 "nbformat_minor": 2
}
