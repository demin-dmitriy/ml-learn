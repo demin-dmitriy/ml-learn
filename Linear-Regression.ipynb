{
 "cells": [
  {
   "cell_type": "code",
   "execution_count": null,
   "metadata": {},
   "outputs": [],
   "source": [
    "import numpy as np\n",
    "import matplotlib as mpl\n",
    "import matplotlib.pyplot as plt\n",
    "\n",
    "from numpy.linalg import inv\n",
    "\n",
    "import itertools\n",
    "from utils import itertools_recipes\n",
    "from ml.gradient_descent import GradientDescentOptimizer"
   ]
  },
  {
   "cell_type": "code",
   "execution_count": null,
   "metadata": {},
   "outputs": [],
   "source": [
    "size = 100\n",
    "low = 1\n",
    "hi = 5\n",
    "\n",
    "range_ends = np.r_[low, hi]"
   ]
  },
  {
   "cell_type": "code",
   "execution_count": null,
   "metadata": {},
   "outputs": [],
   "source": [
    "θ_0 = np.random.uniform(0, 1)\n",
    "θ_1 = np.random.uniform(0, 3)\n",
    "\n",
    "solution = np.vectorize(lambda x: θ_0 + θ_1 * x)"
   ]
  },
  {
   "cell_type": "code",
   "execution_count": null,
   "metadata": {},
   "outputs": [],
   "source": [
    "θ_0, θ_1"
   ]
  },
  {
   "cell_type": "code",
   "execution_count": null,
   "metadata": {},
   "outputs": [],
   "source": [
    "xs = np.random.uniform(low, hi, size)\n",
    "y_noise = np.random.randn(size)\n",
    "ys = θ_0 + θ_1 * xs + y_noise "
   ]
  },
  {
   "cell_type": "code",
   "execution_count": null,
   "metadata": {},
   "outputs": [],
   "source": [
    "plt.plot(xs, ys, '.r')"
   ]
  },
  {
   "cell_type": "code",
   "execution_count": null,
   "metadata": {},
   "outputs": [],
   "source": [
    "X = np.c_[np.ones(xs.size), xs]\n",
    "Y = ys[:,None]"
   ]
  },
  {
   "cell_type": "code",
   "execution_count": null,
   "metadata": {},
   "outputs": [],
   "source": [
    "# Commented in favor of more linear algebraic formula that is more compact and more general\n",
    "# opt_θ_1 = (ys.mean() - (xs * ys).sum() / xs.sum()) / (xs.mean() - (xs ** 2).sum() / xs.sum())\n",
    "# opt_θ_0 = ys.mean() - opt_θ_1 * xs.mean()\n",
    "\n",
    "opt_θ_0, opt_θ_1 = (inv(X.T @ X) @ X.T @ Y)[:,0]\n",
    "\n",
    "h = np.vectorize(lambda x: opt_θ_0 + opt_θ_1 * x)"
   ]
  },
  {
   "cell_type": "code",
   "execution_count": null,
   "metadata": {},
   "outputs": [],
   "source": [
    "opt_θ_0, opt_θ_1"
   ]
  },
  {
   "cell_type": "code",
   "execution_count": null,
   "metadata": {},
   "outputs": [],
   "source": [
    "print(\"squared error = \", (θ_0 - opt_θ_0) ** 2 + (θ_1 - opt_θ_1) ** 2)"
   ]
  },
  {
   "cell_type": "code",
   "execution_count": null,
   "metadata": {},
   "outputs": [],
   "source": [
    "plt.plot(xs, ys, '.r')\n",
    "plt.plot(range_ends, h(range_ends))\n",
    "plt.plot(range_ends, solution(range_ends))"
   ]
  },
  {
   "cell_type": "code",
   "execution_count": null,
   "metadata": {},
   "outputs": [],
   "source": [
    "vecJ = lambda θ: ((X @ θ.reshape(2, 1)  - Y) ** 2).sum() / xs.size\n",
    "J = np.vectorize(lambda θ_0, θ_1: vecJ(np.array([θ_0, θ_1])))"
   ]
  },
  {
   "cell_type": "code",
   "execution_count": null,
   "metadata": {},
   "outputs": [],
   "source": [
    "θ_0_range = np.r_[θ_0 - 1 : θ_0 + 1 : 100j]\n",
    "θ_1_range = np.r_[θ_1 - 1 : θ_1 + 1 : 100j]\n",
    "plt.contour(θ_1_range, θ_0_range, J(θ_0_range[:,None], θ_1_range[None,:]))"
   ]
  },
  {
   "cell_type": "code",
   "execution_count": null,
   "metadata": {},
   "outputs": [],
   "source": [
    "dJ = lambda θ: 2 / xs.size * (X * (X @ θ.reshape(2, 1) - Y)).sum(axis=0)"
   ]
  },
  {
   "cell_type": "code",
   "execution_count": null,
   "metadata": {},
   "outputs": [],
   "source": [
    "optimizer = GradientDescentOptimizer(J=vecJ, δJ=dJ, start_θ=np.array([0, 0]), α=0.01)"
   ]
  },
  {
   "cell_type": "code",
   "execution_count": null,
   "metadata": {},
   "outputs": [],
   "source": [
    "optimizer.nth(20000)"
   ]
  },
  {
   "cell_type": "code",
   "execution_count": null,
   "metadata": {},
   "outputs": [],
   "source": [
    "optimizer.plot_progress(40, α=0.07)\n",
    "optimizer.plot_progress(40, α=0.03)\n",
    "optimizer.plot_progress(40, α=0.01)\n",
    "optimizer.plot_progress(40, α=0.001)"
   ]
  }
 ],
 "metadata": {
  "language_info": {
   "name": "python",
   "pygments_lexer": "ipython3"
  }
 },
 "nbformat": 4,
 "nbformat_minor": 2
}
