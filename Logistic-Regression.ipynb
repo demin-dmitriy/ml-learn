{
 "cells": [
  {
   "cell_type": "code",
   "execution_count": null,
   "metadata": {},
   "outputs": [],
   "source": [
    "import itertools\n",
    "from math import *\n",
    "\n",
    "import numpy as np\n",
    "import matplotlib as mpl\n",
    "import matplotlib.pyplot as plt\n",
    "\n",
    "from numpy.linalg import inv\n",
    "\n",
    "from utils.colormap import truncate_colormap\n",
    "from utils import itertools_recipes"
   ]
  },
  {
   "cell_type": "code",
   "execution_count": null,
   "metadata": {},
   "outputs": [],
   "source": [
    "reds = np.random.multivariate_normal([5, 3], [[2, -1], [-1, 1]], 80)\n",
    "blues = np.random.multivariate_normal([1, 0.5], [[5, 2], [2, 2]], 50)"
   ]
  },
  {
   "cell_type": "code",
   "execution_count": null,
   "metadata": {},
   "outputs": [],
   "source": [
    "RS = np.c_[(np.ones((reds.shape[0], 1)), reds)]\n",
    "BS = np.c_[(np.ones((blues.shape[0], 1)), blues)]\n",
    "XS = np.r_[RS, BS]\n",
    "YS = np.r_[0 : 0 : reds.shape[0] * 1j, 1 : 1 : blues.shape[0] * 1j]\n",
    "M = XS.shape[0]"
   ]
  },
  {
   "cell_type": "code",
   "execution_count": null,
   "metadata": {},
   "outputs": [],
   "source": [
    "def plotData():\n",
    "    plt.scatter(*reds.T, c='r',  linewidths=0.5, edgecolors='black')\n",
    "    plt.scatter(*blues.T, c='b',  linewidths=0.5, edgecolors='black');\n",
    "    \n",
    "plotData()"
   ]
  },
  {
   "cell_type": "code",
   "execution_count": null,
   "metadata": {},
   "outputs": [],
   "source": [
    "h = lambda θ: lambda x: 1.0 / (1.0 + exp(-np.dot(θ, x)))"
   ]
  },
  {
   "cell_type": "code",
   "execution_count": null,
   "metadata": {},
   "outputs": [],
   "source": [
    "# red  => y=0\n",
    "# blue => y=1\n",
    "\n",
    "def J(θ):\n",
    "    h_θ = h(θ)\n",
    "    redJ = sum(log(1 - h_θ(red)) for red in RS)\n",
    "    blueJ = sum(log(h_θ(blue)) for blue in BS)\n",
    "    return -(redJ + blueJ) / M"
   ]
  },
  {
   "cell_type": "code",
   "execution_count": null,
   "metadata": {},
   "outputs": [],
   "source": [
    "def dJ(θ): # TODO: verify\n",
    "    h_θ = h(θ)\n",
    "    return 1 / M * sum(x * (h_θ(x) - y) for x, y in zip(XS, YS))"
   ]
  },
  {
   "cell_type": "code",
   "execution_count": null,
   "metadata": {},
   "outputs": [],
   "source": [
    "# TODO: refactor this into class\n",
    "def batchGradDescent(start_θ, α = 0.01):\n",
    "    current_θ = start_θ\n",
    "    while True:\n",
    "        yield current_θ\n",
    "        current_θ = current_θ - α * dJ(current_θ)"
   ]
  },
  {
   "cell_type": "code",
   "execution_count": null,
   "metadata": {},
   "outputs": [],
   "source": [
    "def optimize(α = 0.01):\n",
    "    return batchGradDescent(start_θ=np.array([0, 0, 0]), α=α)"
   ]
  },
  {
   "cell_type": "code",
   "execution_count": null,
   "metadata": {},
   "outputs": [],
   "source": [
    "θ_opt = itertools_recipes.nth(optimize(1), 4000)"
   ]
  },
  {
   "cell_type": "code",
   "execution_count": null,
   "metadata": {},
   "outputs": [],
   "source": [
    "θ_opt"
   ]
  },
  {
   "cell_type": "code",
   "execution_count": null,
   "metadata": {},
   "outputs": [],
   "source": [
    "J([5, -1, -1]) # My guess by hand"
   ]
  },
  {
   "cell_type": "code",
   "execution_count": null,
   "metadata": {},
   "outputs": [],
   "source": [
    "J(θ_opt)"
   ]
  },
  {
   "cell_type": "code",
   "execution_count": null,
   "metadata": {},
   "outputs": [],
   "source": [
    "xmin = -3\n",
    "xmax = 10\n",
    "ymin = -3\n",
    "ymax = 6\n",
    "\n",
    "def plotHypothesis(θ):\n",
    "    z_func = np.vectorize(lambda x1, x2: h(θ)(np.array([1, x1, x2])))\n",
    "    Z = z_func(np.linspace(xmin, xmax, 50)[:, None], np.linspace(ymin, ymax, 50))\n",
    "\n",
    "    plt.figure(figsize=(15,6))\n",
    "    plt.imshow(\n",
    "        Z.T,\n",
    "        extent=(xmin, xmax, ymin, ymax),\n",
    "        interpolation='none',\n",
    "        cmap=truncate_colormap(\"PuOr\", 0.3, 0.7),\n",
    "        origin='lower'\n",
    "    )\n",
    "    plt.colorbar()\n",
    "    plotData()\n",
    "    plt.ylim(ymin, ymax)\n",
    "    plt.xlim(xmin, xmax)"
   ]
  },
  {
   "cell_type": "code",
   "execution_count": null,
   "metadata": {},
   "outputs": [],
   "source": [
    "plt.figure(1)\n",
    "plotHypothesis(itertools_recipes.nth(optimize(1), 1))\n",
    "plt.title(\"After 1st Iteration\")\n",
    "plt.figure(2)\n",
    "plotHypothesis(itertools_recipes.nth(optimize(1), 40))\n",
    "plt.title(\"After 40 Iterations\")\n",
    "plt.figure(3)\n",
    "plotHypothesis(itertools_recipes.nth(optimize(1), 500))\n",
    "plt.title(\"After 500 Iterations\")\n",
    "plt.figure(4)\n",
    "plotHypothesis(θ_opt)\n",
    "plt.title(\"After 4000 Iterations\")"
   ]
  },
  {
   "cell_type": "code",
   "execution_count": null,
   "metadata": {},
   "outputs": [],
   "source": [
    "def progressJ(α, steps=40):\n",
    "    return itertools_recipes.take(steps, map(J, optimize(α=α)))\n",
    "\n",
    "plt.plot(progressJ(1, 100), label='α = 1')\n",
    "plt.plot(progressJ(0.5, 100), label='α = 0.5')\n",
    "plt.plot(progressJ(0.1, 100), label='α = 0.1')\n",
    "plt.plot(progressJ(0.05, 100), label='α = 0.05')\n",
    "plt.legend()"
   ]
  }
 ],
 "metadata": {
  "language_info": {
   "name": "python",
   "pygments_lexer": "ipython3"
  }
 },
 "nbformat": 4,
 "nbformat_minor": 2
}
