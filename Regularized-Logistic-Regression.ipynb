{
 "cells": [
  {
   "cell_type": "code",
   "execution_count": null,
   "metadata": {},
   "outputs": [],
   "source": [
    "import itertools\n",
    "from math import *\n",
    "\n",
    "import numpy as np\n",
    "import matplotlib as mpl\n",
    "import matplotlib.pyplot as plt\n",
    "\n",
    "from utils.colormap import truncate_colormap\n",
    "from utils import itertools_recipes\n",
    "\n",
    "from ml.gradient_descent import GradientDescentOptimizer"
   ]
  },
  {
   "cell_type": "code",
   "execution_count": null,
   "metadata": {},
   "outputs": [],
   "source": [
    "def randomDet1Matrix():\n",
    "    A = np.random.normal(size=(2, 2))\n",
    "    A /= sqrt(abs(np.linalg.det(A)))\n",
    "    return A\n",
    "\n",
    "reds_m = 80\n",
    "blues_m = 60\n",
    "\n",
    "radiuses = np.random.normal(10, 1, size=reds_m) ** 2\n",
    "angles = np.random.uniform(low=0.0, high=2 * pi, size=reds_m)\n",
    "A = randomDet1Matrix()  # Random tilt / rotation\n",
    "b = np.random.normal(0, 40, size=(2, 1)) # Random shift\n",
    "reds = A @ np.array([radiuses * np.cos(angles), radiuses * np.sin(angles)]) + b\n",
    "blues = A @ np.random.multivariate_normal([0, 0], [[700, 0], [0, 700]], blues_m).T + b"
   ]
  },
  {
   "cell_type": "code",
   "execution_count": null,
   "metadata": {},
   "outputs": [],
   "source": [
    "M = reds_m + blues_m"
   ]
  },
  {
   "cell_type": "code",
   "execution_count": null,
   "metadata": {},
   "outputs": [],
   "source": [
    "plt.scatter(*reds/150, c='r',  linewidths=0.5, edgecolors='black')\n",
    "plt.scatter(*blues/150, c='b',  linewidths=0.5, edgecolors='black');"
   ]
  },
  {
   "cell_type": "code",
   "execution_count": null,
   "metadata": {},
   "outputs": [],
   "source": [
    "unbiased_xs = np.c_[reds, blues] / 150 # Normalize by hand\n",
    "products = np.prod(unbiased_xs, axis=0, keepdims=True)\n",
    "squares = unbiased_xs ** 2\n",
    "XS = np.r_[np.ones((1, unbiased_xs.shape[1])), unbiased_xs, products, squares]\n",
    "YS = np.r_[np.zeros(reds.shape[1]), np.ones(blues.shape[1])]"
   ]
  },
  {
   "cell_type": "code",
   "execution_count": null,
   "metadata": {},
   "outputs": [],
   "source": [
    "h = lambda θ: lambda x: 1.0 / (1.0 + exp(-np.dot(θ, x)))"
   ]
  },
  {
   "cell_type": "code",
   "execution_count": null,
   "metadata": {},
   "outputs": [],
   "source": [
    "# red  => y=0\n",
    "# blue => y=1\n",
    "\n",
    "def J(θ):\n",
    "    h_θ = h(θ)\n",
    "    totalSum = sum((log(1 - h_θ(x)) if y == 0 else log(h_θ(x))) for x, y in zip(XS.T, YS))\n",
    "    return -totalSum / M"
   ]
  },
  {
   "cell_type": "code",
   "execution_count": null,
   "metadata": {},
   "outputs": [],
   "source": [
    "def dJ(θ):\n",
    "    h_θ = h(θ)\n",
    "    return 1 / M * sum(x * (h_θ(x) - y) for x, y in zip(XS.T, YS))"
   ]
  },
  {
   "cell_type": "code",
   "execution_count": null,
   "metadata": {},
   "outputs": [],
   "source": [
    "optimizer = GradientDescentOptimizer(J=J, δJ=dJ, α=0.7, start_θ=[0, 0, 0, 0, 0, 0])"
   ]
  },
  {
   "cell_type": "code",
   "execution_count": null,
   "metadata": {},
   "outputs": [],
   "source": [
    "θ_opt = optimizer.nth(100)"
   ]
  },
  {
   "cell_type": "code",
   "execution_count": null,
   "metadata": {},
   "outputs": [],
   "source": [
    "-θ_opt"
   ]
  },
  {
   "cell_type": "code",
   "execution_count": null,
   "metadata": {},
   "outputs": [],
   "source": [
    "xmin = -3\n",
    "xmax = 10\n",
    "ymin = -3\n",
    "ymax = 6\n",
    "\n",
    "def plotHypothesis(θ):\n",
    "    z_func = np.vectorize(lambda x1, x2: h(θ)(np.array([1, x1, x2, x1 * x2, x1 ** 2, x2 ** 2])))\n",
    "    Z = z_func(np.linspace(xmin, xmax, 50)[:, None], np.linspace(ymin, ymax, 50))\n",
    "\n",
    "    plt.figure(figsize=(15,6))\n",
    "    plt.imshow(\n",
    "        Z.T,\n",
    "        extent=(xmin, xmax, ymin, ymax),\n",
    "        interpolation='none',\n",
    "        cmap=truncate_colormap(\"PuOr\", 0.3, 0.7),\n",
    "        origin='lower'\n",
    "    )\n",
    "    plt.colorbar()\n",
    "    plotData()\n",
    "    plt.ylim(ymin, ymax)\n",
    "    plt.xlim(xmin, xmax)"
   ]
  },
  {
   "cell_type": "code",
   "execution_count": null,
   "metadata": {},
   "outputs": [],
   "source": [
    "plotHypothesis(θ_opt)\n",
    "plt.scatter(*reds/150, c='r',  linewidths=0.5, edgecolors='black')\n",
    "plt.scatter(*blues/150, c='b',  linewidths=0.5, edgecolors='black');"
   ]
  },
  {
   "cell_type": "code",
   "execution_count": null,
   "metadata": {},
   "outputs": [],
   "source": []
  }
 ],
 "metadata": {
  "language_info": {
   "name": "python",
   "pygments_lexer": "ipython3"
  }
 },
 "nbformat": 4,
 "nbformat_minor": 2
}
