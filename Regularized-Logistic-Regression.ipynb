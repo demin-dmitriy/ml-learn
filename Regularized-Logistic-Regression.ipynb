{
 "cells": [
  {
   "cell_type": "code",
   "execution_count": null,
   "metadata": {},
   "outputs": [],
   "source": [
    "import itertools\n",
    "from math import *\n",
    "\n",
    "import numpy as np\n",
    "import matplotlib as mpl\n",
    "import matplotlib.pyplot as plt\n",
    "\n",
    "from utils.colormap import truncate_colormap\n",
    "from utils import itertools_recipes\n",
    "\n",
    "from ml.gradient_descent import GradientDescentOptimizer"
   ]
  },
  {
   "cell_type": "code",
   "execution_count": null,
   "metadata": {},
   "outputs": [],
   "source": [
    "def randomDet1Matrix():\n",
    "    A = np.random.normal(size=(2, 2))\n",
    "    A /= sqrt(abs(np.linalg.det(A)))\n",
    "    return A\n",
    "\n",
    "reds_m = 80\n",
    "blues_m = 60\n",
    "\n",
    "radiuses = np.random.normal(10, 1, size=reds_m) ** 2\n",
    "angles = np.random.uniform(low=0.0, high=2 * pi, size=reds_m)\n",
    "A = randomDet1Matrix()  # Random tilt / rotation\n",
    "b = np.random.normal(0, 40, size=(2, 1)) # Random shift\n",
    "reds = A @ np.array([radiuses * np.cos(angles), radiuses * np.sin(angles)]) + b\n",
    "blues = A @ np.random.multivariate_normal([0, 0], [[700, 0], [0, 700]], blues_m).T + b"
   ]
  },
  {
   "cell_type": "code",
   "execution_count": null,
   "metadata": {},
   "outputs": [],
   "source": [
    "plt.scatter(*reds, c='r',  linewidths=0.5, edgecolors='black')\n",
    "plt.scatter(*blues, c='b',  linewidths=0.5, edgecolors='black');"
   ]
  }
 ],
 "metadata": {
  "language_info": {
   "name": "python",
   "pygments_lexer": "ipython3"
  }
 },
 "nbformat": 4,
 "nbformat_minor": 2
}
