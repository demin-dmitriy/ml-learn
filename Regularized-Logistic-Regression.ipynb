{
 "cells": [
  {
   "cell_type": "code",
   "execution_count": null,
   "metadata": {},
   "outputs": [],
   "source": [
    "import itertools\n",
    "from math import *\n",
    "\n",
    "import numpy as np\n",
    "import matplotlib as mpl\n",
    "import matplotlib.pyplot as plt\n",
    "\n",
    "from utils.colormap import truncate_colormap\n",
    "from utils import itertools_recipes\n",
    "\n",
    "from ml.gradient_descent import GradientDescentOptimizer"
   ]
  },
  {
   "cell_type": "code",
   "execution_count": null,
   "metadata": {},
   "outputs": [],
   "source": [
    "reds_m = 80\n",
    "blues_m = 60\n",
    "\n",
    "radiuses = np.random.normal(10, 1, size=reds_m) ** 2\n",
    "angles = np.random.uniform(low=0.0, high=2 * pi, size=reds_m)\n",
    "reds = np.array([radiuses * np.cos(angles), radiuses * np.sin(angles)])\n",
    "blues = np.random.multivariate_normal([0, 0], [[100, 0], [0, 100]], blues_m)"
   ]
  },
  {
   "cell_type": "code",
   "execution_count": null,
   "metadata": {},
   "outputs": [],
   "source": [
    "plt.scatter(*reds, c='r',  linewidths=0.5, edgecolors='black')\n",
    "plt.scatter(*blues.T, c='b',  linewidths=0.5, edgecolors='black');"
   ]
  },
  {
   "cell_type": "code",
   "execution_count": null,
   "metadata": {},
   "outputs": [],
   "source": []
  }
 ],
 "metadata": {
  "language_info": {
   "name": "python",
   "pygments_lexer": "ipython3"
  }
 },
 "nbformat": 4,
 "nbformat_minor": 2
}
