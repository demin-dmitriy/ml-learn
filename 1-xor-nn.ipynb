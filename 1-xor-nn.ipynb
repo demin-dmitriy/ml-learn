{
 "cells": [
  {
   "cell_type": "code",
   "execution_count": null,
   "metadata": {},
   "outputs": [],
   "source": [
    "import torch\n",
    "import torch.nn.functional as F"
   ]
  },
  {
   "cell_type": "code",
   "execution_count": null,
   "metadata": {},
   "outputs": [],
   "source": [
    "# Dataset\n",
    "x = torch.tensor([\n",
    "    [a, b]\n",
    "    for a in (0, 1)\n",
    "    for b in (0, 1)\n",
    "], dtype=torch.float).t()\n",
    "\n",
    "y = torch.tensor([\n",
    "    a ^ b\n",
    "    for a in (0, 1)\n",
    "    for b in (0, 1)\n",
    "], dtype=torch.float)\n",
    "\n",
    "\n",
    "def do_nothing(*args):\n",
    "    pass\n",
    "\n",
    "\n",
    "class Model:\n",
    "    def __init__(self, activation=F.relu):\n",
    "        # 2 binary features -> HiddenLayer(2 neurons) -> relu -> OutputLayer(1 neuron)\n",
    "        # Hidden layer parameters\n",
    "        self.W = torch.randn((2, 2)) * 2\n",
    "        self.b = torch.randn((2, 1))\n",
    "\n",
    "        # Output layer parameters\n",
    "        self.w = torch.randn(2) / 32 * 2\n",
    "        self.c = torch.randn(1) / 32\n",
    "\n",
    "        self.parameters = [self.W, self.w, self.b, self.c]\n",
    "        \n",
    "        for p in self.parameters:\n",
    "            p.requires_grad = True\n",
    "        \n",
    "        self.activation = activation\n",
    "\n",
    "    def forward(self, input):\n",
    "        return self.w @ self.activation(self.W @ input + self.b) + self.c\n",
    "    \n",
    "    def train(self, n, α=1e-3, report=do_nothing):\n",
    "        for iteration in range(n):\n",
    "            loss = mse_loss(self.forward(x), y)\n",
    "            report(iteration, loss)\n",
    "            loss.backward()\n",
    "\n",
    "            with torch.no_grad():\n",
    "                for parameter in self.parameters:\n",
    "                    parameter -= α * parameter.grad\n",
    "                    parameter.grad.zero_()\n",
    "    \n",
    "    def __str__(self):\n",
    "        return f\"W: {self.W}\\nb: {self.b}\\nw: {self.w}\\nc: {self.c}\"\n",
    "\n",
    "def mse_loss(y0, y1):\n",
    "    return (y0 - y1).pow(2).sum()"
   ]
  },
  {
   "cell_type": "code",
   "execution_count": null,
   "metadata": {},
   "outputs": [],
   "source": [
    "good_count = 0\n",
    "bad_count = 0\n",
    "\n",
    "for attempt in range(50):\n",
    "    xor_model = Model(activation=F.relu)\n",
    "    xor_model.train(5000, α=3e-3)\n",
    "    result = torch.round(xor_model.forward(x) * 10) / 10\n",
    "    if torch.equal(result, torch.tensor([0., 1., 1., 0.])):\n",
    "        good_count += 1\n",
    "        print(f'Attempt {attempt}: good')\n",
    "    else:\n",
    "        bad_count += 1\n",
    "        print(f'Attempt {attempt}: bad ({result})')"
   ]
  },
  {
   "cell_type": "code",
   "execution_count": null,
   "metadata": {},
   "outputs": [],
   "source": [
    "# Model finds global optimum only 30% of the time =(\n",
    "# All other times it gets stuck in a platou\n",
    "good_count / (good_count + bad_count)"
   ]
  }
 ],
 "metadata": {
  "kernelspec": {
   "display_name": "Python 3",
   "language": "python",
   "name": "python3"
  },
  "language_info": {
   "codemirror_mode": {
    "name": "ipython",
    "version": 3
   },
   "file_extension": ".py",
   "mimetype": "text/x-python",
   "name": "python",
   "nbconvert_exporter": "python",
   "pygments_lexer": "ipython3",
   "version": "3.6.6+"
  }
 },
 "nbformat": 4,
 "nbformat_minor": 2
}
